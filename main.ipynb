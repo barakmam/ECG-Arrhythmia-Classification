{
  "nbformat": 4,
  "nbformat_minor": 0,
  "metadata": {
    "colab": {
      "name": "main.ipynb",
      "provenance": [],
      "authorship_tag": "ABX9TyOc8pC5y3NSViUNHNVsBVwv",
      "include_colab_link": true
    },
    "kernelspec": {
      "name": "python3",
      "display_name": "Python 3"
    },
    "language_info": {
      "name": "python"
    }
  },
  "cells": [
    {
      "cell_type": "markdown",
      "metadata": {
        "id": "view-in-github",
        "colab_type": "text"
      },
      "source": [
        "<a href=\"https://colab.research.google.com/github/barakmam/ECG-Arrhythmia-Classification/blob/master/main.ipynb\" target=\"_parent\"><img src=\"https://colab.research.google.com/assets/colab-badge.svg\" alt=\"Open In Colab\"/></a>"
      ]
    },
    {
      "cell_type": "markdown",
      "metadata": {
        "id": "SJRYwHp5TUpf"
      },
      "source": [
        "# Imports"
      ]
    },
    {
      "cell_type": "code",
      "metadata": {
        "id": "YHlixX1-FaKC"
      },
      "source": [
        "import torch\n",
        "from torch.utils.data import Dataset, DataLoader\n",
        "import torch.nn.functional as F\n",
        "from sklearn.model_selection import train_test_split\n",
        "import numpy as np\n",
        "import pickle\n",
        "import time\n",
        "import pandas as pd\n",
        "import matplotlib.pyplot as plt\n",
        "import glob\n",
        "import scipy.signal as sg\n",
        "\n",
        "def checkDevice():\n",
        "    if torch.cuda.is_available():\n",
        "        torch.cuda.current_device()\n",
        "    device = torch.device(\"cuda:0\" if torch.cuda.is_available() else \"cpu\")\n",
        "    # device = torch.device(\"cpu\")\n",
        "    print(\"running calculations on: \", device)\n",
        "    return device"
      ],
      "execution_count": 1,
      "outputs": []
    },
    {
      "cell_type": "markdown",
      "metadata": {
        "id": "UMilTO-bTXbU"
      },
      "source": [
        "# Data"
      ]
    },
    {
      "cell_type": "code",
      "metadata": {
        "id": "p-v0NedLOt_f"
      },
      "source": [
        "!wget -r -N -c -np https://physionet.org/files/mitdb/1.0.0/"
      ],
      "execution_count": null,
      "outputs": []
    },
    {
      "cell_type": "code",
      "metadata": {
        "id": "y1bnQ78wdKMG"
      },
      "source": [
        "!pip install wfdb\n",
        "import wfdb"
      ],
      "execution_count": null,
      "outputs": []
    },
    {
      "cell_type": "code",
      "metadata": {
        "id": "f5eCy3cOYNEL"
      },
      "source": [
        "t = pd.read_csv(\"/content/100.csv\")\n",
        "annotation = pd.read_csv('/content/100annotations.txt', delimiter = \"\\t\")"
      ],
      "execution_count": 14,
      "outputs": []
    },
    {
      "cell_type": "code",
      "metadata": {
        "id": "HsiaNiJm4C_u",
        "outputId": "bc832f57-901a-4919-899e-3f0ab7e6fa07",
        "colab": {
          "base_uri": "https://localhost:8080/",
          "height": 399
        }
      },
      "source": [
        "annotation"
      ],
      "execution_count": 15,
      "outputs": [
        {
          "output_type": "execute_result",
          "data": {
            "text/html": [
              "<div>\n",
              "<style scoped>\n",
              "    .dataframe tbody tr th:only-of-type {\n",
              "        vertical-align: middle;\n",
              "    }\n",
              "\n",
              "    .dataframe tbody tr th {\n",
              "        vertical-align: top;\n",
              "    }\n",
              "\n",
              "    .dataframe thead th {\n",
              "        text-align: right;\n",
              "    }\n",
              "</style>\n",
              "<table border=\"1\" class=\"dataframe\">\n",
              "  <thead>\n",
              "    <tr style=\"text-align: right;\">\n",
              "      <th></th>\n",
              "      <th>Time   Sample #  Type  Sub Chan  Num</th>\n",
              "      <th>Aux</th>\n",
              "    </tr>\n",
              "  </thead>\n",
              "  <tbody>\n",
              "    <tr>\n",
              "      <th>0</th>\n",
              "      <td>0:00.050       18     +    0    0    0</td>\n",
              "      <td>(N</td>\n",
              "    </tr>\n",
              "    <tr>\n",
              "      <th>1</th>\n",
              "      <td>0:00.214       77     N    0    0    0</td>\n",
              "      <td>NaN</td>\n",
              "    </tr>\n",
              "    <tr>\n",
              "      <th>2</th>\n",
              "      <td>0:01.028      370     N    0    0    0</td>\n",
              "      <td>NaN</td>\n",
              "    </tr>\n",
              "    <tr>\n",
              "      <th>3</th>\n",
              "      <td>0:01.839      662     N    0    0    0</td>\n",
              "      <td>NaN</td>\n",
              "    </tr>\n",
              "    <tr>\n",
              "      <th>4</th>\n",
              "      <td>0:02.628      946     N    0    0    0</td>\n",
              "      <td>NaN</td>\n",
              "    </tr>\n",
              "    <tr>\n",
              "      <th>...</th>\n",
              "      <td>...</td>\n",
              "      <td>...</td>\n",
              "    </tr>\n",
              "    <tr>\n",
              "      <th>2269</th>\n",
              "      <td>30:02.717   648978     N    0    0    0</td>\n",
              "      <td>NaN</td>\n",
              "    </tr>\n",
              "    <tr>\n",
              "      <th>2270</th>\n",
              "      <td>30:03.422   649232     N    0    0    0</td>\n",
              "      <td>NaN</td>\n",
              "    </tr>\n",
              "    <tr>\n",
              "      <th>2271</th>\n",
              "      <td>30:04.122   649484     N    0    0    0</td>\n",
              "      <td>NaN</td>\n",
              "    </tr>\n",
              "    <tr>\n",
              "      <th>2272</th>\n",
              "      <td>30:04.817   649734     N    0    0    0</td>\n",
              "      <td>NaN</td>\n",
              "    </tr>\n",
              "    <tr>\n",
              "      <th>2273</th>\n",
              "      <td>30:05.531   649991     N    0    0    0</td>\n",
              "      <td>NaN</td>\n",
              "    </tr>\n",
              "  </tbody>\n",
              "</table>\n",
              "<p>2274 rows × 2 columns</p>\n",
              "</div>"
            ],
            "text/plain": [
              "            Time   Sample #  Type  Sub Chan  Num  Aux\n",
              "0         0:00.050       18     +    0    0    0   (N\n",
              "1         0:00.214       77     N    0    0    0  NaN\n",
              "2         0:01.028      370     N    0    0    0  NaN\n",
              "3         0:01.839      662     N    0    0    0  NaN\n",
              "4         0:02.628      946     N    0    0    0  NaN\n",
              "...                                          ...  ...\n",
              "2269     30:02.717   648978     N    0    0    0  NaN\n",
              "2270     30:03.422   649232     N    0    0    0  NaN\n",
              "2271     30:04.122   649484     N    0    0    0  NaN\n",
              "2272     30:04.817   649734     N    0    0    0  NaN\n",
              "2273     30:05.531   649991     N    0    0    0  NaN\n",
              "\n",
              "[2274 rows x 2 columns]"
            ]
          },
          "metadata": {
            "tags": []
          },
          "execution_count": 15
        }
      ]
    },
    {
      "cell_type": "code",
      "metadata": {
        "id": "BQClgMgc4si9",
        "outputId": "3ab45420-8caf-4496-b601-b20c1cdbb82f",
        "colab": {
          "base_uri": "https://localhost:8080/"
        }
      },
      "source": [
        "77/360"
      ],
      "execution_count": 17,
      "outputs": [
        {
          "output_type": "execute_result",
          "data": {
            "text/plain": [
              "0.21388888888888888"
            ]
          },
          "metadata": {
            "tags": []
          },
          "execution_count": 17
        }
      ]
    },
    {
      "cell_type": "code",
      "metadata": {
        "id": "laoWwStTYf8r",
        "outputId": "3f37be77-d28a-48eb-f644-bb508b82c856",
        "colab": {
          "base_uri": "https://localhost:8080/",
          "height": 283
        }
      },
      "source": [
        "plt.plot(t[\"'MLII'\"][:3000])"
      ],
      "execution_count": 84,
      "outputs": [
        {
          "output_type": "execute_result",
          "data": {
            "text/plain": [
              "[<matplotlib.lines.Line2D at 0x7f2e20c19b50>]"
            ]
          },
          "metadata": {
            "tags": []
          },
          "execution_count": 84
        },
        {
          "output_type": "display_data",
          "data": {
            "image/png": "[encoded data removed]",
            "text/plain": [
              "<Figure size 432x288 with 1 Axes>"
            ]
          },
          "metadata": {
            "tags": [],
            "needs_background": "light"
          }
        }
      ]
    },
    {
      "cell_type": "code",
      "metadata": {
        "id": "0AdZsvTHdngc",
        "outputId": "92050b32-2c23-48a2-fceb-9acbbe4d93f0",
        "colab": {
          "base_uri": "https://localhost:8080/"
        }
      },
      "source": [
        "fileName = glob.glob(\"/content/physionet.org/files/mitdb/1.0.0/*.dat\")\n",
        "len(fileName)"
      ],
      "execution_count": 19,
      "outputs": [
        {
          "output_type": "execute_result",
          "data": {
            "text/plain": [
              "48"
            ]
          },
          "metadata": {
            "tags": []
          },
          "execution_count": 19
        }
      ]
    },
    {
      "cell_type": "code",
      "metadata": {
        "id": "u7ONih6qyWkr",
        "outputId": "8883ef11-effe-4221-eaa2-2f7e612fb2b5",
        "colab": {
          "base_uri": "https://localhost:8080/",
          "height": 284
        }
      },
      "source": [
        "signals, fields = wfdb.rdsamp('/content/physionet.org/files/mitdb/1.0.0/100', channels=[0], sampfrom=0)\n",
        "display(signals)\n",
        "display(fields)"
      ],
      "execution_count": 9,
      "outputs": [
        {
          "output_type": "display_data",
          "data": {
            "text/plain": [
              "array([[-0.145],\n",
              "       [-0.145],\n",
              "       [-0.145],\n",
              "       ...,\n",
              "       [-0.675],\n",
              "       [-0.765],\n",
              "       [-1.28 ]])"
            ]
          },
          "metadata": {
            "tags": []
          }
        },
        {
          "output_type": "display_data",
          "data": {
            "text/plain": [
              "{'base_date': None,\n",
              " 'base_time': None,\n",
              " 'comments': ['69 M 1085 1629 x1', 'Aldomet, Inderal'],\n",
              " 'fs': 360,\n",
              " 'n_sig': 1,\n",
              " 'sig_len': 650000,\n",
              " 'sig_name': ['MLII'],\n",
              " 'units': ['mV']}"
            ]
          },
          "metadata": {
            "tags": []
          }
        }
      ]
    },
    {
      "cell_type": "code",
      "metadata": {
        "id": "Fv_UvkTQeAHw"
      },
      "source": [
        "record = wfdb.rdrecord('/content/physionet.org/files/mitdb/1.0.0/100') "
      ],
      "execution_count": 57,
      "outputs": []
    },
    {
      "cell_type": "code",
      "metadata": {
        "id": "xaVNlhJW3RqN",
        "outputId": "ab268766-f580-4872-c707-7315ea87f44a",
        "colab": {
          "base_uri": "https://localhost:8080/"
        }
      },
      "source": [
        "# !git clone https://github.com/barakmam/ECG-Arrhythmia-Classification.git"
      ],
      "execution_count": 10,
      "outputs": [
        {
          "output_type": "stream",
          "text": [
            "Cloning into 'ECG-Arrhythmia-Classification'...\n",
            "fatal: could not read Username for 'https://github.com': No such device or address\n"
          ],
          "name": "stdout"
        }
      ]
    },
    {
      "cell_type": "code",
      "metadata": {
        "id": "BH2ssW7AewFQ"
      },
      "source": [
        "record.__dict__"
      ],
      "execution_count": null,
      "outputs": []
    },
    {
      "cell_type": "code",
      "metadata": {
        "id": "-9o4MJk2GNhi"
      },
      "source": [
        "sum(record.__dict__[\"p_signal\"])"
      ],
      "execution_count": null,
      "outputs": []
    },
    {
      "cell_type": "code",
      "metadata": {
        "id": "5ZyMtr7nHmkG"
      },
      "source": [
        "1011/record.__dict__[\"p_signal\"][0, 1]\n",
        "a = -6862.068965517242\n",
        "b = -15553.846153846152\n",
        "np.array([a, b])*(record.__dict__[\"p_signal\"])[:13, :]"
      ],
      "execution_count": null,
      "outputs": []
    },
    {
      "cell_type": "code",
      "metadata": {
        "id": "1SrIHO6ueWcy",
        "outputId": "8c518189-2d6c-4927-fe56-d5399697925e",
        "colab": {
          "base_uri": "https://localhost:8080/",
          "height": 265
        }
      },
      "source": [
        "plt.plot(record.__dict__[\"p_signal\"][:3000, 0],'b')\n",
        "# plt.plot(record.__dict__[\"p_signal\"][:1000, 1], 'k')\n",
        "\n",
        "plt.show()"
      ],
      "execution_count": 77,
      "outputs": [
        {
          "output_type": "display_data",
          "data": {
            "image/png": "[encoded data removed]",
            "text/plain": [
              "<Figure size 432x288 with 1 Axes>"
            ]
          },
          "metadata": {
            "tags": [],
            "needs_background": "light"
          }
        }
      ]
    },
    {
      "cell_type": "code",
      "metadata": {
        "id": "bviefVU4KigL",
        "outputId": "09f3373f-b13f-4237-f154-981a7e1ae816",
        "colab": {
          "base_uri": "https://localhost:8080/",
          "height": 287
        }
      },
      "source": [
        "# s = sg.stft(record.__dict__[\"p_signal\"][:4096, 0], fs=360)\n",
        "f, t, Zxx = sg.stft(record.__dict__[\"p_signal\"][:2**16, 1], fs=360, nperseg=512)\n",
        "plt.pcolormesh(t, f, np.abs(Zxx), shading='gouraud')\n",
        "plt.ylim([0, 10])\n",
        "plt.xlim([0, 100])\n"
      ],
      "execution_count": 100,
      "outputs": [
        {
          "output_type": "execute_result",
          "data": {
            "text/plain": [
              "(0.0, 100.0)"
            ]
          },
          "metadata": {
            "tags": []
          },
          "execution_count": 100
        },
        {
          "output_type": "display_data",
          "data": {
            "image/png": "[encoded data removed]",
            "text/plain": [
              "<Figure size 432x288 with 1 Axes>"
            ]
          },
          "metadata": {
            "tags": [],
            "needs_background": "light"
          }
        }
      ]
    },
    {
      "cell_type": "code",
      "metadata": {
        "id": "qQWzTJt0xKAM",
        "outputId": "8134db08-6cb6-415f-9a96-7b3fc98ad020",
        "colab": {
          "base_uri": "https://localhost:8080/",
          "height": 36
        }
      },
      "source": [
        "a = glob(input_dir)\n",
        "a[3]"
      ],
      "execution_count": 26,
      "outputs": [
        {
          "output_type": "execute_result",
          "data": {
            "application/vnd.google.colaboratory.intrinsic+json": {
              "type": "string"
            },
            "text/plain": [
              "'/content/physionet.org/files/mitdb/1.0.0/212.atr'"
            ]
          },
          "metadata": {
            "tags": []
          },
          "execution_count": 26
        }
      ]
    },
    {
      "cell_type": "code",
      "metadata": {
        "id": "SO-eNUGwtdZB"
      },
      "source": [
        "import multiprocessing as mp\n",
        "import os.path as osp\n",
        "import subprocess\n",
        "from glob import glob\n",
        "\n",
        "from tqdm import tqdm\n",
        "\n",
        "input_dir = \"/content/physionet.org/files/mitdb/1.0.0/*.atr\"\n",
        "ecg_data = sorted([osp.splitext(i)[0] for i in glob(input_dir)])\n",
        "pbar = tqdm(total=len(ecg_data))\n",
        "\n",
        "\n",
        "def run(file):\n",
        "    params = [\"python\", \"dataset-generation.py\", \"--file\", file]\n",
        "    subprocess.check_call(params)\n",
        "    pbar.update(1)\n",
        "\n",
        "\n",
        "if __name__ == \"__main__\":\n",
        "    p = mp.Pool(processes=mp.cpu_count())\n",
        "    p.map(run, ecg_data)"
      ],
      "execution_count": null,
      "outputs": []
    },
    {
      "cell_type": "code",
      "metadata": {
        "id": "P1M-BGImw_e3"
      },
      "source": [
        ""
      ],
      "execution_count": null,
      "outputs": []
    },
    {
      "cell_type": "markdown",
      "metadata": {
        "id": "z9q0jqNKTZHT"
      },
      "source": [
        "# Training loop\n"
      ]
    },
    {
      "cell_type": "code",
      "metadata": {
        "id": "R0A9OJeLOt82"
      },
      "source": [
        "def trainNet(net, n_epochs, batch_size, learning_rate, step, patience, valCalcFreq, train_loader, val_loader, device):\n",
        "    # Print all of the hyperparameters of the training iteration:\n",
        "    print(\"===== HYPERPARAMETERS =====\")\n",
        "    print(\"batch_size=\", batch_size)\n",
        "    print(\"learning_rate=\", learning_rate)\n",
        "    print(\"step=\", step)\n",
        "    print(\"patience=\", patience)\n",
        "    print(\"=\" * 30)\n",
        "    \n",
        "    optimizer = torch.optim.Adam(net.parameters(), lr=learning_rate)\n",
        "    p = 0\n",
        "\n",
        "    # Time for printing\n",
        "    training_start_time = time.time()\n",
        "\n",
        "    # Statistics:\n",
        "    numDeleted = np.array([])\n",
        "    train_acc_total = []\n",
        "    val_acc_total = np.array([0])\n",
        "    train_loss_total = np.array([])\n",
        "    val_loss_total = np.array([])\n",
        "\n",
        "    for epoch in range(n_epochs):\n",
        "        train_loss = 0\n",
        "        train_hits = 0\n",
        "        train_samples_checked = 0\n",
        "        start_time = time.time()\n",
        "\n",
        "        net.train()\n",
        "        for batch_idx, (x, labels) in enumerate(train_loader, 0):\n",
        "\n",
        "            # Get inputs\n",
        "            x, labels = x.to(device), labels.to(device)\n",
        "\n",
        "            # Forward pass\n",
        "            preds = net(x)\n",
        "            loss = criterion(preds, labels)\n",
        "            \n",
        "            # Set the parameter gradients to zero, backward pass, optimize\n",
        "            optimizer.zero_grad()\n",
        "            loss.backward()\n",
        "            optimizer.step()\n",
        "\n",
        "            # Update statstics:\n",
        "            train_loss += loss.data\n",
        "            train_hits += (preds.argmax(1) == labels).sum()\n",
        "            train_samples_checked += len(preds)\n",
        "            \n",
        "        train_loss_total.append(train_loss.data / len(train_loader))\n",
        "        train_acc_total.append(train_hits/train_samples_checked)\n",
        "\n",
        "        print(\"Epoch [{}/{}]:\\t Took {:.2f}s.\\t Train: loss = {:.3f} Acc = {:.3f}\"\n",
        "              .format(epoch, n_epoch, time.time() - start_time, train_loss_total[-1], train_acc_total[-1]))\n",
        "\n",
        "        if epoch % valCalcFreq == 0:\n",
        "            # At the end of the epoch, do a pass on the validation set\n",
        "            val_start_time = time.time()\n",
        "            val_loss = 0\n",
        "            val_hits = 0\n",
        "            val_samples_checked = 0\n",
        "            net.eval()\n",
        "            with torch.no_grad():\n",
        "                for (x, labels) in val_loader:\n",
        "                    x, labels = x.to(device), labels.to(device)\n",
        "                    # Forward pass\n",
        "                    val_preds = net(x)\n",
        "                    loss = criterion(val_preds, labels)\n",
        "\n",
        "                     # Update statstics:\n",
        "                    val_loss += loss.data\n",
        "                    val_hits += (val_preds.argmax(1) == labels).sum()\n",
        "                    val_samples_checked += len(labels)\n",
        "\n",
        "            val_acc_total.append(val_hits / val_samples_checked)\n",
        "            val_loss_total.append(val_loss / len(val_loader))\n",
        "            \n",
        "            print(\"Epoch [{}/{}]:\\t Took {:.2f}s.\\t Validation: loss = {:.3f} Acc = {:.3f}\"\n",
        "                  .format(epoch, epoch_n, time.time() - val_start_time, val_loss_total[-1], val_acc_total[-1]))\n",
        "            if epoch > 0 and val_acc_total[-1] <= val_acc_total[-2]:\n",
        "                p += 1\n",
        "            else:\n",
        "                p = 0\n",
        "            if epoch == n_epochs:\n",
        "                break\n",
        "\n",
        "    print(\"Training finished, took {:.3f}s\".format(time.time() - training_start_time))\n",
        "    return net, train_acc_total, train_loss_total, val_acc_total, val_loss_total"
      ],
      "execution_count": null,
      "outputs": []
    },
    {
      "cell_type": "markdown",
      "metadata": {
        "id": "Wk3kJu9xbkQk"
      },
      "source": [
        "# References"
      ]
    },
    {
      "cell_type": "markdown",
      "metadata": {
        "id": "8vdc8qdSbuPd"
      },
      "source": [
        "1. Dataset: [Moody GB, Mark RG. The impact of the MIT-BIH Arrhythmia Database. IEEE Eng in Med and Biol 20(3):45-50 (May-June 2001). (PMID: 11446209)](http://ecg.mit.edu/george/publications/mitdb-embs-2001.pdf)\n",
        "\n",
        "2. Main paper: [ECG Arrhythmia Classification Using STFT-Based Spectrogram and Convolutional Neural Network](https://ieeexplore.ieee.org/abstract/document/8759878)"
      ]
    },
    {
      "cell_type": "code",
      "metadata": {
        "id": "DGQdwGPpcMrr"
      },
      "source": [
        ""
      ],
      "execution_count": null,
      "outputs": []
    }
  ]
}